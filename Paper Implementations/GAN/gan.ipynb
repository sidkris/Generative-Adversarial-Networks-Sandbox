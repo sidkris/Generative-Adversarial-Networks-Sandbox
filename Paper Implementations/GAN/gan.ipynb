{
 "cells": [
  {
   "cell_type": "code",
   "execution_count": 7,
   "id": "a5d030db",
   "metadata": {},
   "outputs": [],
   "source": [
    "import torch\n",
    "import torch.nn as nn\n",
    "import tqdm"
   ]
  },
  {
   "cell_type": "code",
   "execution_count": 8,
   "id": "ab38b952",
   "metadata": {},
   "outputs": [],
   "source": [
    "class Generator(nn.Module):\n",
    "\n",
    "    def __init__(self, input_dimension = 100, hidden_dimension = 1200, output_dimension = 28*28): \n",
    "        super().__init__()\n",
    "        self.network = nn.Sequential(\n",
    "            nn.Linear(input_dimension, hidden_dimension),\n",
    "            nn.ReLU(),\n",
    "            nn.Linear(hidden_dimension, hidden_dimension),\n",
    "            nn.ReLU(),\n",
    "            nn.Linear(hidden_dimension, output_dimension),\n",
    "            nn.Tanh()\n",
    "        )\n",
    "\n",
    "\n",
    "    def forward(self, z):\n",
    "        return self.network(z)\n"
   ]
  },
  {
   "cell_type": "code",
   "execution_count": 9,
   "id": "0a3a4677",
   "metadata": {},
   "outputs": [],
   "source": [
    "class Discrimator(nn.Module):\n",
    "    def __init__(self, input_dimension = 28*28, hidden_dimension = 240, output_dimension = 1):\n",
    "        super().__init__()\n",
    "        self.network = nn.Sequential(\n",
    "            nn.Linear(input_dimension, hidden_dimension),      \n",
    "            nn.LeakyReLU(negative_slope = 0.2),\n",
    "            nn.Linear(hidden_dimension, hidden_dimension),\n",
    "            nn.LeakyReLU(negative_slope = 0.2),\n",
    "            nn.Linear(hidden_dimension, output_dimension),\n",
    "            nn.Sigmoid()\n",
    "        )\n",
    "\n",
    "    def forward(self, x):\n",
    "        return self.network(x)"
   ]
  },
  {
   "cell_type": "code",
   "execution_count": 10,
   "id": "b59bf0fd",
   "metadata": {},
   "outputs": [],
   "source": [
    "def sample_noise(batch_size):\n",
    "    pass\n",
    "\n",
    "def sample_minibatch(batch_size):\n",
    "    pass"
   ]
  },
  {
   "cell_type": "code",
   "execution_count": 11,
   "id": "fe60ce27",
   "metadata": {},
   "outputs": [],
   "source": [
    "# Training Loop\n",
    "def training_loop(generator, discrimator, generator_optimizer, discriminator_optimizer, epochs, k = 1, batch_size = 100, device = \"cpu\"):\n",
    "    # the disc_gen_ratio (k) is used to set the value for the number of training steps for the discriminator (usually higher than the generator)\n",
    "    \n",
    "    training_loss = {\"generator_loss\" : [], \"discrimator_loss\" : []}\n",
    "\n",
    "    for epoch in tqdm.tqdm(range(epochs)):\n",
    "\n",
    "        # discrminator\n",
    "        for _ in range(k):\n",
    "            # sample minibatch of m noise samples\n",
    "            z = sample_noise(batch_size)\n",
    "            \n",
    "            # sample minibatch of m examples data\n",
    "            x = sample_minibatch(batch_size)\n",
    "            \n",
    "            # update the discriminator by ascending its stochastic gradient\n",
    "            fake_data_loss = nn.BCELoss(discrimator(generator(z)).squeeze(-1), torch.zeros(batch_size, device = device))\n",
    "            real_data_loss = nn.BCELoss(discrimator(x).squeeze(-1), torch.ones(batch_size, device = device))\n",
    "            actual_loss = (fake_data_loss + real_data_loss) / 2.0 # the paper uses a sum but I'm using a mean here (more typical in modern ML)\n",
    "\n",
    "            discriminator_optimizer.zero_grad()\n",
    "            actual_loss.backward()\n",
    "            discriminator_optimizer.step()\n",
    "\n",
    "            training_loss[\"discrimator_loss\"].append(actual_loss.item())\n",
    "    \n",
    "\n",
    "        # generator\n",
    "        z = sample_noise(batch_size)\n",
    "        fake_data_loss_gen = nn.BCELoss(discrimator(generator(z)).squeeze(-1), torch.ones(batch_size, device = device))\n",
    "        generator_optimizer.zero_grad()\n",
    "        fake_data_loss_gen.backward()\n",
    "        generator_optimizer.step()\n",
    "        training_loss[\"generator_loss\"].append(fake_data_loss_gen.item())        \n",
    "\n",
    "\n",
    "\n",
    "    return training_loss"
   ]
  },
  {
   "cell_type": "code",
   "execution_count": null,
   "id": "9a6c22cb",
   "metadata": {},
   "outputs": [],
   "source": []
  }
 ],
 "metadata": {
  "kernelspec": {
   "display_name": "Python 3",
   "language": "python",
   "name": "python3"
  },
  "language_info": {
   "codemirror_mode": {
    "name": "ipython",
    "version": 3
   },
   "file_extension": ".py",
   "mimetype": "text/x-python",
   "name": "python",
   "nbconvert_exporter": "python",
   "pygments_lexer": "ipython3",
   "version": "3.11.6"
  }
 },
 "nbformat": 4,
 "nbformat_minor": 5
}
